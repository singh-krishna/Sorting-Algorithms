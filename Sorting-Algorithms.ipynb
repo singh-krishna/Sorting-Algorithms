{
 "cells": [
  {
   "cell_type": "code",
   "execution_count": 11,
   "metadata": {},
   "outputs": [
    {
     "name": "stdout",
     "output_type": "stream",
     "text": [
      "[1, 2, 3, 8, 10, 15]\n"
     ]
    }
   ],
   "source": [
    "##  INSERTION SORT  \n",
    "\n",
    "arr=[10,2,15,8,3,1]\n",
    "for i in range(1,len(arr)):\n",
    "    for j in range(i-1,-1,-1):\n",
    "        if arr[j]>arr[j+1]:\n",
    "            arr[j],arr[j+1]=arr[j+1],arr[j]\n",
    "        else:\n",
    "            break\n",
    "print(arr)"
   ]
  },
  {
   "cell_type": "code",
   "execution_count": 18,
   "metadata": {},
   "outputs": [
    {
     "name": "stdout",
     "output_type": "stream",
     "text": [
      "[1, 2, 3, 8, 10, 15]\n"
     ]
    }
   ],
   "source": [
    "##   SELECTION SORT\n",
    "\n",
    "ar=[10,2,15,8,3,1]\n",
    "for i in range(len(arr)):\n",
    "    a=i\n",
    "    for j in range(i+1,len(arr)):\n",
    "        if ar[a]>ar[j]:\n",
    "            a=j\n",
    "    ar[i],ar[a]=ar[a],ar[i]\n",
    "print(ar)"
   ]
  },
  {
   "cell_type": "code",
   "execution_count": 24,
   "metadata": {},
   "outputs": [
    {
     "name": "stdout",
     "output_type": "stream",
     "text": [
      "[1, 2, 3, 5, 8, 10]\n"
     ]
    }
   ],
   "source": [
    "##  BUBBLE SORT\n",
    "\n",
    "a=[10,2,5,8,3,1]\n",
    "for i in range(len(a)):\n",
    "    for j in range(len(a)-1-i):\n",
    "        if(a[j]>a[j+1]):\n",
    "            a[j],a[j+1]=a[j+1],a[j]\n",
    "print(a)"
   ]
  },
  {
   "cell_type": "code",
   "execution_count": 31,
   "metadata": {},
   "outputs": [
    {
     "name": "stdout",
     "output_type": "stream",
     "text": [
      "[3, 5, 6, 7, 9, 10, 25]\n"
     ]
    }
   ],
   "source": [
    "##    MERGR SORT\n",
    "\n",
    "\n",
    "def mergesort(arr):\n",
    "    l=[]\n",
    "    r=[]\n",
    "    if(len(arr)>1):\n",
    "        mid=len(arr)//2\n",
    "        l=arr[:mid]\n",
    "        r=arr[mid:]\n",
    "        mergesort(l)\n",
    "        mergesort(r)\n",
    "        i,j,k=0,0,0\n",
    "        while i<len(l) and j<len(r):\n",
    "            if(l[i]>r[j]):\n",
    "                arr[k]=r[j]\n",
    "                j+=1\n",
    "            else:\n",
    "                arr[k]=l[i]\n",
    "                i+=1\n",
    "            k+=1\n",
    "        if(i<len(l)):\n",
    "            arr[k]=l[i]\n",
    "            i+=1\n",
    "            k+=1\n",
    "        if(j<len(r)):\n",
    "            arr[k]=r[j]\n",
    "            j+=1\n",
    "            k+=1\n",
    "        return arr\n",
    "l=[25,3,6,10,7,5,9]\n",
    "print(mergesort(l))"
   ]
  },
  {
   "cell_type": "code",
   "execution_count": 41,
   "metadata": {},
   "outputs": [
    {
     "name": "stdout",
     "output_type": "stream",
     "text": [
      "[2, 3, 12, 34, 54]\n"
     ]
    }
   ],
   "source": [
    "## SHELL SORT\n",
    "\n",
    "ls=[12,34,54,2,3]\n",
    "gap=len(ls)//2\n",
    "while gap>0:\n",
    "    for i in range(gap,len(ls)):\n",
    "        temp=ls[i]\n",
    "        j=i\n",
    "        while j>=gap and ls[j-gap]>temp:\n",
    "            ls[j]=ls[j-gap]\n",
    "            j-=gap\n",
    "        ls[j]=temp\n",
    "    gap=gap//2\n",
    "print(ls)"
   ]
  },
  {
   "cell_type": "code",
   "execution_count": 53,
   "metadata": {},
   "outputs": [],
   "source": [
    "##   BELLMENFORD ALGORITHM\n",
    "\n",
    "from collections import defaultdict\n",
    "class Graph:\n",
    "    def __init__(self,vertices):\n",
    "        self.v=vertices\n",
    "        self.graph=[]\n",
    "    def addedge(self,u,v,w):\n",
    "        self.graph.append([u,w,v])\n",
    "    def printpath(self,dist):\n",
    "        for i in range(self.v):\n",
    "            print(i,dist[i])\n",
    "    def Bellmanford(self,src):\n",
    "        dist=[float(\"INF\")] * self.v\n",
    "        dist[src]=0\n",
    "        for i in range(self.v-1):\n",
    "            for u,v,w in self.graph:\n",
    "                if dist[u] != float(\"Inf\") and dist[u] + w < dist[v]:\n",
    "                    dist[v]=min(dist[v],dist[u]+w)\n",
    "        for u,v,w in self.graph:\n",
    "            if dist[v]>dist[u]+w:\n",
    "                print('Negative cycle present')\n",
    "                break\n",
    "        self.printpath(dict)"
   ]
  },
  {
   "cell_type": "code",
   "execution_count": 54,
   "metadata": {},
   "outputs": [],
   "source": [
    "g=Graph(3)\n",
    "g.addedge(0,1,-6)\n",
    "g.addedge(1,2,10)\n",
    "g.addedge(2,0,3)"
   ]
  },
  {
   "cell_type": "code",
   "execution_count": 55,
   "metadata": {},
   "outputs": [
    {
     "ename": "IndexError",
     "evalue": "list index out of range",
     "output_type": "error",
     "traceback": [
      "\u001b[1;31m---------------------------------------------------------------------------\u001b[0m",
      "\u001b[1;31mIndexError\u001b[0m                                Traceback (most recent call last)",
      "\u001b[1;32m<ipython-input-55-46a217452099>\u001b[0m in \u001b[0;36m<module>\u001b[1;34m()\u001b[0m\n\u001b[1;32m----> 1\u001b[1;33m \u001b[0mg\u001b[0m\u001b[1;33m.\u001b[0m\u001b[0mBellmanford\u001b[0m\u001b[1;33m(\u001b[0m\u001b[1;36m0\u001b[0m\u001b[1;33m)\u001b[0m\u001b[1;33m\u001b[0m\u001b[0m\n\u001b[0m",
      "\u001b[1;32m<ipython-input-53-34b914dfba07>\u001b[0m in \u001b[0;36mBellmanford\u001b[1;34m(self, src)\u001b[0m\n\u001b[0;32m     16\u001b[0m         \u001b[1;32mfor\u001b[0m \u001b[0mi\u001b[0m \u001b[1;32min\u001b[0m \u001b[0mrange\u001b[0m\u001b[1;33m(\u001b[0m\u001b[0mself\u001b[0m\u001b[1;33m.\u001b[0m\u001b[0mv\u001b[0m\u001b[1;33m-\u001b[0m\u001b[1;36m1\u001b[0m\u001b[1;33m)\u001b[0m\u001b[1;33m:\u001b[0m\u001b[1;33m\u001b[0m\u001b[0m\n\u001b[0;32m     17\u001b[0m             \u001b[1;32mfor\u001b[0m \u001b[0mu\u001b[0m\u001b[1;33m,\u001b[0m\u001b[0mv\u001b[0m\u001b[1;33m,\u001b[0m\u001b[0mw\u001b[0m \u001b[1;32min\u001b[0m \u001b[0mself\u001b[0m\u001b[1;33m.\u001b[0m\u001b[0mgraph\u001b[0m\u001b[1;33m:\u001b[0m\u001b[1;33m\u001b[0m\u001b[0m\n\u001b[1;32m---> 18\u001b[1;33m                 \u001b[1;32mif\u001b[0m \u001b[0mdist\u001b[0m\u001b[1;33m[\u001b[0m\u001b[0mu\u001b[0m\u001b[1;33m]\u001b[0m \u001b[1;33m!=\u001b[0m \u001b[0mfloat\u001b[0m\u001b[1;33m(\u001b[0m\u001b[1;34m\"Inf\"\u001b[0m\u001b[1;33m)\u001b[0m \u001b[1;32mand\u001b[0m \u001b[0mdist\u001b[0m\u001b[1;33m[\u001b[0m\u001b[0mu\u001b[0m\u001b[1;33m]\u001b[0m \u001b[1;33m+\u001b[0m \u001b[0mw\u001b[0m \u001b[1;33m<\u001b[0m \u001b[0mdist\u001b[0m\u001b[1;33m[\u001b[0m\u001b[0mv\u001b[0m\u001b[1;33m]\u001b[0m\u001b[1;33m:\u001b[0m\u001b[1;33m\u001b[0m\u001b[0m\n\u001b[0m\u001b[0;32m     19\u001b[0m                     \u001b[0mdist\u001b[0m\u001b[1;33m[\u001b[0m\u001b[0mv\u001b[0m\u001b[1;33m]\u001b[0m\u001b[1;33m=\u001b[0m\u001b[0mmin\u001b[0m\u001b[1;33m(\u001b[0m\u001b[0mdist\u001b[0m\u001b[1;33m[\u001b[0m\u001b[0mv\u001b[0m\u001b[1;33m]\u001b[0m\u001b[1;33m,\u001b[0m\u001b[0mdist\u001b[0m\u001b[1;33m[\u001b[0m\u001b[0mu\u001b[0m\u001b[1;33m]\u001b[0m\u001b[1;33m+\u001b[0m\u001b[0mw\u001b[0m\u001b[1;33m)\u001b[0m\u001b[1;33m\u001b[0m\u001b[0m\n\u001b[0;32m     20\u001b[0m         \u001b[1;32mfor\u001b[0m \u001b[0mu\u001b[0m\u001b[1;33m,\u001b[0m\u001b[0mv\u001b[0m\u001b[1;33m,\u001b[0m\u001b[0mw\u001b[0m \u001b[1;32min\u001b[0m \u001b[0mself\u001b[0m\u001b[1;33m.\u001b[0m\u001b[0mgraph\u001b[0m\u001b[1;33m:\u001b[0m\u001b[1;33m\u001b[0m\u001b[0m\n",
      "\u001b[1;31mIndexError\u001b[0m: list index out of range"
     ]
    }
   ],
   "source": [
    "g.Bellmanford(0)"
   ]
  },
  {
   "cell_type": "code",
   "execution_count": 78,
   "metadata": {},
   "outputs": [
    {
     "name": "stdout",
     "output_type": "stream",
     "text": [
      "25\n",
      "5 22\n",
      "[1, 4, 2, 5, 10]\n"
     ]
    }
   ],
   "source": [
    "##   PHILANDAR COIN\n",
    "\n",
    "x=int(input())\n",
    "l=[]\n",
    "for i in range(1,x):\n",
    "    if(x%i==0):\n",
    "        l.append(i)\n",
    "if(sum(l)>=x):\n",
    "    print(len(l),sum(l))\n",
    "else:\n",
    "    rem=x-sum(l)\n",
    "    for j in range(1,rem):\n",
    "        if(rem%j==0):\n",
    "            if(j not in l):\n",
    "                l.append(j)\n",
    "    if(sum(l)>x):\n",
    "        print(len(l),sum(l))\n",
    "    else:\n",
    "        a=l.pop(l.index(max(l)))\n",
    "        l.append(a-1)\n",
    "        rem1=x-sum(l)\n",
    "        for k in range(1,rem1):\n",
    "            for j in range(1,rem):\n",
    "                if(rem1%k==0):\n",
    "                    if(k not in l):\n",
    "                        l.append(k)\n",
    "    print(len(l),sum(l))\n",
    "print(l)"
   ]
  },
  {
   "cell_type": "code",
   "execution_count": 64,
   "metadata": {},
   "outputs": [
    {
     "data": {
      "text/plain": [
       "2"
      ]
     },
     "execution_count": 64,
     "metadata": {},
     "output_type": "execute_result"
    }
   ],
   "source": [
    "n=[10,20,30]\n",
    "n.index(max(n))"
   ]
  },
  {
   "cell_type": "code",
   "execution_count": null,
   "metadata": {},
   "outputs": [],
   "source": []
  }
 ],
 "metadata": {
  "kernelspec": {
   "display_name": "Python 3",
   "language": "python",
   "name": "python3"
  },
  "language_info": {
   "codemirror_mode": {
    "name": "ipython",
    "version": 3
   },
   "file_extension": ".py",
   "mimetype": "text/x-python",
   "name": "python",
   "nbconvert_exporter": "python",
   "pygments_lexer": "ipython3",
   "version": "3.7.0"
  }
 },
 "nbformat": 4,
 "nbformat_minor": 2
}
